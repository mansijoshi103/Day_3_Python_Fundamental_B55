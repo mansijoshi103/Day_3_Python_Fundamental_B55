{
 "cells": [
  {
   "cell_type": "code",
   "execution_count": null,
   "id": "974a4598",
   "metadata": {},
   "outputs": [],
   "source": [
    "#Introduction to string method"
   ]
  },
  {
   "cell_type": "code",
   "execution_count": null,
   "id": "9ef9255d",
   "metadata": {},
   "outputs": [],
   "source": [
    "1)type--->used to vallidate the data type"
   ]
  },
  {
   "cell_type": "code",
   "execution_count": 1,
   "id": "d2fc8b34",
   "metadata": {},
   "outputs": [
    {
     "name": "stdout",
     "output_type": "stream",
     "text": [
      "mansi\n"
     ]
    }
   ],
   "source": [
    "name=\"mansi\"\n",
    "print(name)"
   ]
  },
  {
   "cell_type": "code",
   "execution_count": 2,
   "id": "e3b3e3eb",
   "metadata": {},
   "outputs": [
    {
     "data": {
      "text/plain": [
       "str"
      ]
     },
     "execution_count": 2,
     "metadata": {},
     "output_type": "execute_result"
    }
   ],
   "source": [
    "type(name)"
   ]
  },
  {
   "cell_type": "code",
   "execution_count": null,
   "id": "d0449d91",
   "metadata": {},
   "outputs": [],
   "source": [
    "2)title()---->it used to show first letter of each string is capital\n",
    "3)upper()---->complete  string  in capital letter\n",
    "4)lower()----->used to convert  string in lowercase"
   ]
  },
  {
   "cell_type": "code",
   "execution_count": 3,
   "id": "8fb7a947",
   "metadata": {},
   "outputs": [
    {
     "name": "stdout",
     "output_type": "stream",
     "text": [
      "mansi joshi\n"
     ]
    }
   ],
   "source": [
    "full_name=\"mansi joshi\"\n",
    "print(full_name)"
   ]
  },
  {
   "cell_type": "code",
   "execution_count": 4,
   "id": "a0207844",
   "metadata": {},
   "outputs": [
    {
     "name": "stdout",
     "output_type": "stream",
     "text": [
      "Mansi Joshi\n"
     ]
    }
   ],
   "source": [
    "print(full_name.title())"
   ]
  },
  {
   "cell_type": "code",
   "execution_count": 5,
   "id": "ec134a22",
   "metadata": {},
   "outputs": [
    {
     "name": "stdout",
     "output_type": "stream",
     "text": [
      "MANSI JOSHI\n"
     ]
    }
   ],
   "source": [
    "print(full_name.upper())"
   ]
  },
  {
   "cell_type": "code",
   "execution_count": 6,
   "id": "97bb8b5c",
   "metadata": {},
   "outputs": [
    {
     "name": "stdout",
     "output_type": "stream",
     "text": [
      "mansi joshi\n"
     ]
    }
   ],
   "source": [
    "print(full_name.lower())"
   ]
  },
  {
   "cell_type": "code",
   "execution_count": null,
   "id": "775b601c",
   "metadata": {},
   "outputs": [],
   "source": []
  },
  {
   "cell_type": "code",
   "execution_count": null,
   "id": "f5cb4602",
   "metadata": {},
   "outputs": [],
   "source": [
    "#Introduction to the f string"
   ]
  },
  {
   "cell_type": "code",
   "execution_count": null,
   "id": "41815a3c",
   "metadata": {},
   "outputs": [],
   "source": [
    "syntax:- x=f\"{placeholder}{placeholder.....n}\""
   ]
  },
  {
   "cell_type": "code",
   "execution_count": 19,
   "id": "52cd3a69",
   "metadata": {},
   "outputs": [
    {
     "name": "stdout",
     "output_type": "stream",
     "text": [
      "mandar joshi\n"
     ]
    }
   ],
   "source": [
    "firstname=\"mandar\"\n",
    "lastname=\"joshi\"\n",
    "\n",
    "fullname=f\"{firstname} {lastname}\"\n",
    "print(fullname)"
   ]
  },
  {
   "cell_type": "code",
   "execution_count": 20,
   "id": "089f90dd",
   "metadata": {},
   "outputs": [
    {
     "name": "stdout",
     "output_type": "stream",
     "text": [
      "Mandar Joshi\n"
     ]
    }
   ],
   "source": [
    "print(fullname.title())"
   ]
  },
  {
   "cell_type": "code",
   "execution_count": 21,
   "id": "070d513c",
   "metadata": {},
   "outputs": [
    {
     "name": "stdout",
     "output_type": "stream",
     "text": [
      "Welcome to my world, Mandar Joshi\n"
     ]
    }
   ],
   "source": [
    "message=f\"Welcome to my world, {fullname.title()}\"\n",
    "print(message)"
   ]
  },
  {
   "cell_type": "code",
   "execution_count": null,
   "id": "33567678",
   "metadata": {},
   "outputs": [],
   "source": []
  },
  {
   "cell_type": "code",
   "execution_count": null,
   "id": "0b5abdc3",
   "metadata": {},
   "outputs": [],
   "source": [
    "#Adding whitespace to string "
   ]
  },
  {
   "cell_type": "code",
   "execution_count": 22,
   "id": "149e38cc",
   "metadata": {},
   "outputs": [
    {
     "name": "stdout",
     "output_type": "stream",
     "text": [
      "favourite_game:cricketludofoootball\n"
     ]
    }
   ],
   "source": [
    "print(\"favourite_game:cricketludofoootball\")"
   ]
  },
  {
   "cell_type": "code",
   "execution_count": null,
   "id": "0e9b9c5d",
   "metadata": {},
   "outputs": [],
   "source": [
    "/n------------>new line delimeter\n",
    "/t----------->tab delimeter"
   ]
  },
  {
   "cell_type": "code",
   "execution_count": 23,
   "id": "5a3255b0",
   "metadata": {},
   "outputs": [
    {
     "name": "stdout",
     "output_type": "stream",
     "text": [
      "favourite_game:\n",
      "cricket\n",
      "ludo\n",
      "foootball\n"
     ]
    }
   ],
   "source": [
    "print(\"favourite_game:\\ncricket\\nludo\\nfoootball\")"
   ]
  },
  {
   "cell_type": "code",
   "execution_count": 24,
   "id": "1967fd92",
   "metadata": {},
   "outputs": [
    {
     "name": "stdout",
     "output_type": "stream",
     "text": [
      "favourite_game:\n",
      "\tcricket\n",
      "\tludo\n",
      "\tfoootball\n"
     ]
    }
   ],
   "source": [
    "print(\"favourite_game:\\n\\tcricket\\n\\tludo\\n\\tfoootball\")"
   ]
  },
  {
   "cell_type": "code",
   "execution_count": null,
   "id": "ae06eaf5",
   "metadata": {},
   "outputs": [],
   "source": []
  },
  {
   "cell_type": "code",
   "execution_count": null,
   "id": "91deb592",
   "metadata": {},
   "outputs": [],
   "source": [
    "#removing the whitespace from string "
   ]
  },
  {
   "cell_type": "code",
   "execution_count": 26,
   "id": "de241d25",
   "metadata": {},
   "outputs": [],
   "source": [
    "name=\"python\"\n",
    "name1=\"python    \"    #right side\n",
    "name2=\"    python\"     #left side\n",
    "name3=\"    python    \""
   ]
  },
  {
   "cell_type": "code",
   "execution_count": 27,
   "id": "07b287f9",
   "metadata": {},
   "outputs": [
    {
     "name": "stdout",
     "output_type": "stream",
     "text": [
      "python\n"
     ]
    }
   ],
   "source": [
    "print(name)"
   ]
  },
  {
   "cell_type": "code",
   "execution_count": 31,
   "id": "48c38f30",
   "metadata": {},
   "outputs": [
    {
     "data": {
      "text/plain": [
       "'python'"
      ]
     },
     "execution_count": 31,
     "metadata": {},
     "output_type": "execute_result"
    }
   ],
   "source": [
    "name1.rstrip()"
   ]
  },
  {
   "cell_type": "code",
   "execution_count": 33,
   "id": "d1f86039",
   "metadata": {},
   "outputs": [
    {
     "data": {
      "text/plain": [
       "'python'"
      ]
     },
     "execution_count": 33,
     "metadata": {},
     "output_type": "execute_result"
    }
   ],
   "source": [
    "name2.lstrip()"
   ]
  },
  {
   "cell_type": "code",
   "execution_count": 34,
   "id": "d2d8cc40",
   "metadata": {},
   "outputs": [
    {
     "data": {
      "text/plain": [
       "'python'"
      ]
     },
     "execution_count": 34,
     "metadata": {},
     "output_type": "execute_result"
    }
   ],
   "source": [
    "name3.strip()\n"
   ]
  },
  {
   "cell_type": "code",
   "execution_count": null,
   "id": "5380585a",
   "metadata": {},
   "outputs": [],
   "source": []
  }
 ],
 "metadata": {
  "kernelspec": {
   "display_name": "Python 3 (ipykernel)",
   "language": "python",
   "name": "python3"
  },
  "language_info": {
   "codemirror_mode": {
    "name": "ipython",
    "version": 3
   },
   "file_extension": ".py",
   "mimetype": "text/x-python",
   "name": "python",
   "nbconvert_exporter": "python",
   "pygments_lexer": "ipython3",
   "version": "3.9.7"
  }
 },
 "nbformat": 4,
 "nbformat_minor": 5
}
